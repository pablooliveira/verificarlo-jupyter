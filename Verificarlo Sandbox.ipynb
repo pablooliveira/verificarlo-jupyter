{
 "cells": [
  {
   "cell_type": "markdown",
   "metadata": {},
   "source": [
    "# Verificarlo Tutorial"
   ]
  },
  {
   "cell_type": "code",
   "execution_count": 1,
   "metadata": {},
   "outputs": [
    {
     "name": "stdout",
     "output_type": "stream",
     "text": [
      "usage: verificarlo [-h] [-c] [-o file] [--function function] [-static]\r\n",
      "                   [--verbose] [--version]\r\n",
      "\r\n",
      "Compiles a program replacing floating point operation with calls to the mcalib\r\n",
      "(Montecarlo Arithmetic).\r\n",
      "\r\n",
      "optional arguments:\r\n",
      "  -h, --help           show this help message and exit\r\n",
      "  -c                   only run preprocess, compile, and assemble steps\r\n",
      "  -o file              write output to <file>\r\n",
      "  --function function  only instrument <function>\r\n",
      "  -static, --static    produce a static binary\r\n",
      "  --verbose            verbose output\r\n",
      "  --version            show program's version number and exit\r\n"
     ]
    }
   ],
   "source": [
    "!verificarlo -h"
   ]
  },
  {
   "cell_type": "code",
   "execution_count": 2,
   "metadata": {},
   "outputs": [
    {
     "name": "stdout",
     "output_type": "stream",
     "text": [
      "Writing test.c\n"
     ]
    }
   ],
   "source": [
    "%%writefile test.c\n",
    "#include <stdio.h>\n",
    "int main() {\n",
    "  double a = 0;\n",
    "  for (int i=0; i < 10000; i++) a += 0.1;\n",
    "  printf(\"%0.17f\\n\", a);\n",
    "  return 0;\n",
    "}"
   ]
  },
  {
   "cell_type": "code",
   "execution_count": 3,
   "metadata": {},
   "outputs": [],
   "source": [
    "!verificarlo -o test test.c"
   ]
  },
  {
   "cell_type": "code",
   "execution_count": 5,
   "metadata": {},
   "outputs": [
    {
     "name": "stdout",
     "output_type": "stream",
     "text": [
      "1000.00000000000068212\n",
      "999.99999999999988631\n",
      "1000.00000000000272848\n",
      "1000.00000000000022737\n",
      "1000.00000000000011369\n",
      "1000.00000000000750333\n",
      "1000.00000000000102318\n",
      "1000.00000000000318323\n",
      "999.99999999999204192\n",
      "999.99999999999533884\n"
     ]
    }
   ],
   "source": [
    "for i in range(10):\n",
    "    !./test"
   ]
  }
 ],
 "metadata": {
  "kernelspec": {
   "display_name": "Python 3",
   "language": "python",
   "name": "python3"
  },
  "language_info": {
   "codemirror_mode": {
    "name": "ipython",
    "version": 3
   },
   "file_extension": ".py",
   "mimetype": "text/x-python",
   "name": "python",
   "nbconvert_exporter": "python",
   "pygments_lexer": "ipython3",
   "version": "3.6.4+"
  }
 },
 "nbformat": 4,
 "nbformat_minor": 2
}
